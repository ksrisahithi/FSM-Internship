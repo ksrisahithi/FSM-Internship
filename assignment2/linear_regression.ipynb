{
 "cells": [
  {
   "cell_type": "markdown",
   "id": "bc2735e9",
   "metadata": {},
   "source": [
    "# Linear Regression on Medical Price Dataset"
   ]
  },
  {
   "cell_type": "code",
   "execution_count": 1,
   "id": "da29792c",
   "metadata": {},
   "outputs": [],
   "source": [
    "import numpy as np\n",
    "import pandas as pd \n",
    "import matplotlib.pyplot as plt\n",
    "from sklearn.linear_model import LinearRegression\n",
    "from sklearn.metrics import mean_squared_error"
   ]
  },
  {
   "cell_type": "code",
   "execution_count": 2,
   "id": "d79c0e7f",
   "metadata": {},
   "outputs": [],
   "source": [
    "df = pd.read_csv('Medical Price Dataset.csv')"
   ]
  },
  {
   "cell_type": "code",
   "execution_count": 3,
   "id": "d4ca3c5c",
   "metadata": {},
   "outputs": [],
   "source": [
    "target = df.charges\n",
    "inputs = df.drop('charges', axis='columns')"
   ]
  },
  {
   "cell_type": "markdown",
   "id": "9513be20",
   "metadata": {},
   "source": [
    "## One-hot encoding for gender and region"
   ]
  },
  {
   "cell_type": "code",
   "execution_count": 4,
   "id": "d6260ff0",
   "metadata": {},
   "outputs": [],
   "source": [
    "dummies = pd.get_dummies(inputs.sex)\n",
    "inputs = pd.concat([inputs,dummies],axis='columns')\n",
    "inputs.drop('sex', axis='columns', inplace=True)"
   ]
  },
  {
   "cell_type": "code",
   "execution_count": 5,
   "id": "de39a5d3",
   "metadata": {},
   "outputs": [
    {
     "data": {
      "text/html": [
       "<div>\n",
       "<style scoped>\n",
       "    .dataframe tbody tr th:only-of-type {\n",
       "        vertical-align: middle;\n",
       "    }\n",
       "\n",
       "    .dataframe tbody tr th {\n",
       "        vertical-align: top;\n",
       "    }\n",
       "\n",
       "    .dataframe thead th {\n",
       "        text-align: right;\n",
       "    }\n",
       "</style>\n",
       "<table border=\"1\" class=\"dataframe\">\n",
       "  <thead>\n",
       "    <tr style=\"text-align: right;\">\n",
       "      <th></th>\n",
       "      <th>age</th>\n",
       "      <th>bmi</th>\n",
       "      <th>children</th>\n",
       "      <th>smoker</th>\n",
       "      <th>female</th>\n",
       "      <th>male</th>\n",
       "      <th>northeast</th>\n",
       "      <th>northwest</th>\n",
       "      <th>southeast</th>\n",
       "      <th>southwest</th>\n",
       "    </tr>\n",
       "  </thead>\n",
       "  <tbody>\n",
       "    <tr>\n",
       "      <th>0</th>\n",
       "      <td>19</td>\n",
       "      <td>27.900</td>\n",
       "      <td>0</td>\n",
       "      <td>yes</td>\n",
       "      <td>1</td>\n",
       "      <td>0</td>\n",
       "      <td>0</td>\n",
       "      <td>0</td>\n",
       "      <td>0</td>\n",
       "      <td>1</td>\n",
       "    </tr>\n",
       "    <tr>\n",
       "      <th>1</th>\n",
       "      <td>18</td>\n",
       "      <td>33.770</td>\n",
       "      <td>1</td>\n",
       "      <td>no</td>\n",
       "      <td>0</td>\n",
       "      <td>1</td>\n",
       "      <td>0</td>\n",
       "      <td>0</td>\n",
       "      <td>1</td>\n",
       "      <td>0</td>\n",
       "    </tr>\n",
       "    <tr>\n",
       "      <th>2</th>\n",
       "      <td>28</td>\n",
       "      <td>33.000</td>\n",
       "      <td>3</td>\n",
       "      <td>no</td>\n",
       "      <td>0</td>\n",
       "      <td>1</td>\n",
       "      <td>0</td>\n",
       "      <td>0</td>\n",
       "      <td>1</td>\n",
       "      <td>0</td>\n",
       "    </tr>\n",
       "    <tr>\n",
       "      <th>3</th>\n",
       "      <td>33</td>\n",
       "      <td>22.705</td>\n",
       "      <td>0</td>\n",
       "      <td>no</td>\n",
       "      <td>0</td>\n",
       "      <td>1</td>\n",
       "      <td>0</td>\n",
       "      <td>1</td>\n",
       "      <td>0</td>\n",
       "      <td>0</td>\n",
       "    </tr>\n",
       "    <tr>\n",
       "      <th>4</th>\n",
       "      <td>32</td>\n",
       "      <td>28.880</td>\n",
       "      <td>0</td>\n",
       "      <td>no</td>\n",
       "      <td>0</td>\n",
       "      <td>1</td>\n",
       "      <td>0</td>\n",
       "      <td>1</td>\n",
       "      <td>0</td>\n",
       "      <td>0</td>\n",
       "    </tr>\n",
       "  </tbody>\n",
       "</table>\n",
       "</div>"
      ],
      "text/plain": [
       "   age     bmi  children smoker  female  male  northeast  northwest  \\\n",
       "0   19  27.900         0    yes       1     0          0          0   \n",
       "1   18  33.770         1     no       0     1          0          0   \n",
       "2   28  33.000         3     no       0     1          0          0   \n",
       "3   33  22.705         0     no       0     1          0          1   \n",
       "4   32  28.880         0     no       0     1          0          1   \n",
       "\n",
       "   southeast  southwest  \n",
       "0          0          1  \n",
       "1          1          0  \n",
       "2          1          0  \n",
       "3          0          0  \n",
       "4          0          0  "
      ]
     },
     "execution_count": 5,
     "metadata": {},
     "output_type": "execute_result"
    }
   ],
   "source": [
    "dummies1 = pd.get_dummies(inputs.region)\n",
    "inputs = pd.concat([inputs,dummies1], axis='columns')\n",
    "inputs.drop('region',axis='columns',inplace=True)\n",
    "inputs.head()"
   ]
  },
  {
   "cell_type": "markdown",
   "id": "d44df036",
   "metadata": {},
   "source": [
    "## Integer encoding for smoker"
   ]
  },
  {
   "cell_type": "code",
   "execution_count": 6,
   "id": "fba1c3a0",
   "metadata": {},
   "outputs": [],
   "source": [
    "inputs['smoker'] = inputs['smoker'].apply({'yes': 1, 'no': 0}.get)"
   ]
  },
  {
   "cell_type": "code",
   "execution_count": 7,
   "id": "2c1f2d57",
   "metadata": {},
   "outputs": [
    {
     "data": {
      "text/plain": [
       "0    16884.92400\n",
       "1     1725.55230\n",
       "2     4449.46200\n",
       "3    21984.47061\n",
       "4     3866.85520\n",
       "Name: charges, dtype: float64"
      ]
     },
     "execution_count": 7,
     "metadata": {},
     "output_type": "execute_result"
    }
   ],
   "source": [
    "target.head(5)"
   ]
  },
  {
   "cell_type": "markdown",
   "id": "80956ce2",
   "metadata": {},
   "source": [
    "## Converting data to numpy array"
   ]
  },
  {
   "cell_type": "code",
   "execution_count": 8,
   "id": "89bd74d9",
   "metadata": {},
   "outputs": [],
   "source": [
    "target = target.to_numpy(dtype=np.float64)\n",
    "inputs = inputs.to_numpy(dtype=np.float64)"
   ]
  },
  {
   "cell_type": "markdown",
   "id": "e24c5baf",
   "metadata": {},
   "source": [
    "## Normalizing Labels"
   ]
  },
  {
   "cell_type": "code",
   "execution_count": 9,
   "id": "1e415482",
   "metadata": {},
   "outputs": [],
   "source": [
    "xMin = min(target)\n",
    "xMax = max(target)\n",
    "target = (target - xMin)/(xMax - xMin)"
   ]
  },
  {
   "cell_type": "markdown",
   "id": "3f8e930f",
   "metadata": {},
   "source": [
    "## Visualizing Labels"
   ]
  },
  {
   "cell_type": "code",
   "execution_count": 10,
   "id": "cda65186",
   "metadata": {},
   "outputs": [
    {
     "data": {
      "image/png": "[encoded data removed]",
      "text/plain": [
       "<Figure size 432x288 with 1 Axes>"
      ]
     },
     "metadata": {
      "needs_background": "light"
     },
     "output_type": "display_data"
    }
   ],
   "source": [
    "plt.plot(target)\n",
    "plt.show()"
   ]
  },
  {
   "cell_type": "markdown",
   "id": "aab8627a",
   "metadata": {},
   "source": [
    "## Linear Regression from Scratch"
   ]
  },
  {
   "cell_type": "code",
   "execution_count": 11,
   "id": "06d72132",
   "metadata": {},
   "outputs": [],
   "source": [
    "class LinearRegressionFromScratch():\n",
    "    def __init__(self):\n",
    "        self.weights = None\n",
    "        self.bias = None\n",
    "        self.X, self.y = None, None\n",
    "        self.lr = 0.001\n",
    "        self.iter = 100000\n",
    "        \n",
    "    def train(self,X,y):\n",
    "        samples, features = X.shape\n",
    "#         self.weights = np.random.rand(features)\n",
    "        self.weights = np.zeros(features)\n",
    "        self.bias = 0\n",
    "        self.X = X\n",
    "        self.y = y\n",
    "        samples = float(samples)\n",
    "#         print(self.weights.shape,X.shape)\n",
    "        debug = self.iter//10\n",
    "        for i in range(self.iter):\n",
    "            y_predict = np.dot(X,self.weights) + self.bias\n",
    "            \n",
    "            sigma = 1/(1+np.exp(-y_predict))\n",
    "            dAct = sigma * (1-sigma)\n",
    "#             print('mean of activation: {}'.format(np.mean(dAct))) # 10^-8\n",
    "            dw = (-2/samples)*np.dot(X.T,(y - y_predict)*dAct)\n",
    "            db = np.mean(-2*(y - y_predict)*dAct)\n",
    "#             print('mean activation: {}, mean dw: {}, mean weights: {}'.format(np.mean(dAct), np.mean(dw), np.mean(self.weights)))\n",
    "            self.weights -= self.lr*dw\n",
    "            self.bias -= self.lr*db\n",
    "            if i%debug==0:\n",
    "                print(\"During iteration: {}, the loss is {}\".format(i,self.mse()))\n",
    "#             print(np.mean(self.weights))\n",
    "            \n",
    "    def mse(self):\n",
    "        y_predict = np.dot(self.X, self.weights) + self.bias\n",
    "        loss = np.mean(np.square((self.y - y_predict)))\n",
    "        return loss\n",
    "    \n",
    "    def test(self,X_test):\n",
    "        y_predict = np.dot(X_test,self.weights) + self.bias\n",
    "        return y_predict\n",
    "#         converting back to original scale after taking the logarithm of the labels\n",
    "#         return np.exp(y_predict)\n"
   ]
  },
  {
   "cell_type": "code",
   "execution_count": 12,
   "id": "f25f5af7",
   "metadata": {},
   "outputs": [
    {
     "name": "stdout",
     "output_type": "stream",
     "text": [
      "During iteration: 0, the loss is 0.037513105871492584\n",
      "During iteration: 10000, the loss is 0.01485323344713204\n",
      "During iteration: 20000, the loss is 0.010945454250226201\n",
      "During iteration: 30000, the loss is 0.00995627486715396\n",
      "During iteration: 40000, the loss is 0.009634293681564925\n",
      "During iteration: 50000, the loss is 0.00949522366755701\n",
      "During iteration: 60000, the loss is 0.009421483780874606\n",
      "During iteration: 70000, the loss is 0.00937807875157916\n",
      "During iteration: 80000, the loss is 0.009351329996266264\n",
      "During iteration: 90000, the loss is 0.009334480169208114\n"
     ]
    }
   ],
   "source": [
    "model1 = LinearRegressionFromScratch()\n",
    "# print(np.mean(inputs),np.mean(target))\n",
    "model1.train(inputs,target)"
   ]
  },
  {
   "cell_type": "markdown",
   "id": "9906f7e6",
   "metadata": {},
   "source": [
    "## Linear Regression using sklearn library"
   ]
  },
  {
   "cell_type": "code",
   "execution_count": 13,
   "id": "c665b3b8",
   "metadata": {},
   "outputs": [
    {
     "data": {
      "text/plain": [
       "LinearRegression()"
      ]
     },
     "execution_count": 13,
     "metadata": {},
     "output_type": "execute_result"
    }
   ],
   "source": [
    "model2 = LinearRegression() # from the sklearn library\n",
    "model2.fit(inputs,target)"
   ]
  },
  {
   "cell_type": "markdown",
   "id": "f4911ec5",
   "metadata": {},
   "source": [
    "## Training Regression Metrics"
   ]
  },
  {
   "cell_type": "code",
   "execution_count": 18,
   "id": "de19b485",
   "metadata": {},
   "outputs": [
    {
     "name": "stdout",
     "output_type": "stream",
     "text": [
      "mean squared error of code from scratch: 0.009323717063722163\n",
      "mean squared error of sklearn library function: 0.009300221313183768\n"
     ]
    }
   ],
   "source": [
    "\n",
    "# print(regr.score(inputs, target))\n",
    "pred1 = model1.test(inputs)\n",
    "pred2 = model2.predict(inputs)\n",
    "\n",
    "mse1 = mean_squared_error(target, pred1)\n",
    "mse2 = mean_squared_error(target, pred2)\n",
    "\n",
    "print('mean squared error of code from scratch: {}\\nmean squared error of sklearn library function: {}'.format(mse1, mse2))"
   ]
  }
 ],
 "metadata": {
  "kernelspec": {
   "display_name": "Python 3",
   "language": "python",
   "name": "python3"
  },
  "language_info": {
   "codemirror_mode": {
    "name": "ipython",
    "version": 3
   },
   "file_extension": ".py",
   "mimetype": "text/x-python",
   "name": "python",
   "nbconvert_exporter": "python",
   "pygments_lexer": "ipython3",
   "version": "3.8.10"
  }
 },
 "nbformat": 4,
 "nbformat_minor": 5
}
